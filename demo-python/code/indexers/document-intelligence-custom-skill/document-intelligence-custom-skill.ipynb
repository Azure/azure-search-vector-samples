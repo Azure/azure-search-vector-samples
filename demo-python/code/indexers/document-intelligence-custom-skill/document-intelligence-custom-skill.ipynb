{
 "cells": [
  {
   "cell_type": "markdown",
   "metadata": {},
   "source": [
    "# Azure AI Search semantic chunking using Markdown and Document Intelligence\n",
    "\n",
    "This code demonstrates how to use Azure AI Search with [Document Intelligence semantic chunking with Markdown](https://learn.microsoft.com/azure/ai-services/document-intelligence/concept-retrieval-augmented-generation?view=doc-intel-4.0.0) and the Azure AI Search Documents Python SDK.\n",
    "\n",
    "It uses `azd` and a bicep template for all deployment steps so that you can focus on queries.\n",
    "\n",
    "## Prerequisites\n",
    "\n",
    "+ Follow the instructions in the [readme](./readme.md) to deploy all Azure resources, and to create and load the search index.\n",
    "\n",
    "+ Check your search service to make sure the index exists. If you don't see an index, revisit the readme and run the `setup_search_service` script.\n",
    "\n",
    "+ Don't add an `.env` file to this folder. Environment variables are read from the `azd` deployment.\n",
    "\n",
    "+ Install the packages necessary for running the queries in this notebook. "
   ]
  },
  {
   "cell_type": "code",
   "execution_count": 1,
   "metadata": {},
   "outputs": [
    {
     "name": "stderr",
     "output_type": "stream",
     "text": [
      "\n",
      "[notice] A new release of pip is available: 24.1.2 -> 24.2\n",
      "[notice] To update, run: python.exe -m pip install --upgrade pip\n",
      "\n",
      "[notice] A new release of pip is available: 24.1.2 -> 24.2\n",
      "[notice] To update, run: python.exe -m pip install --upgrade pip\n"
     ]
    }
   ],
   "source": [
    "! pip install azure-search-documents==11.6.0b4 --quiet\n",
    "! pip install python-dotenv azure-identity --quiet"
   ]
  },
  {
   "cell_type": "code",
   "execution_count": 2,
   "metadata": {},
   "outputs": [
    {
     "data": {
      "text/plain": [
       "True"
      ]
     },
     "execution_count": 2,
     "metadata": {},
     "output_type": "execute_result"
    }
   ],
   "source": [
    "# Load all environment variables from the azd deployment\n",
    "import subprocess\n",
    "from io import StringIO\n",
    "from dotenv import load_dotenv\n",
    "result = subprocess.run([\"azd\", \"env\", \"get-values\"], stdout=subprocess.PIPE)\n",
    "load_dotenv(stream=StringIO(result.stdout.decode(\"utf-8\")))"
   ]
  },
  {
   "cell_type": "code",
   "execution_count": 3,
   "metadata": {},
   "outputs": [],
   "source": [
    "import os\n",
    "search_url = f\"https://{os.environ['AZURE_SEARCH_SERVICE']}.search.windows.net\""
   ]
  },
  {
   "cell_type": "markdown",
   "metadata": {},
   "source": [
    "## Perform a vector similarity search\n",
    "\n",
    "This example shows a pure vector search using the vectorizable text query, all you need to do is pass in text and your vectorizer will handle the query vectorization."
   ]
  },
  {
   "cell_type": "code",
   "execution_count": 5,
   "metadata": {},
   "outputs": [
    {
     "name": "stdout",
     "output_type": "stream",
     "text": [
      "parent_id: aHR0cHM6Ly9zdGFrbHlsbmE0cHhqcW8uYmxvYi5jb3JlLndpbmRvd3MubmV0L2RvY3VtZW50LWludGVsbGlnZW5jZS1zYW1wbGUtZGF0YS9lbXBsb3llZV9oYW5kYm9vay5wZGY1\n",
      "Score: 0.6571667\n",
      "Chunk Headers: ['Performance Reviews']\n",
      "Content: ## Performance Reviews  \n",
      "Performance Reviews at Contoso Electronics  \n",
      "At Contoso Electronics, we strive to ensure our employees are getting the feedback they need to continue growing and developing in their roles. We understand that performance reviews are a key part of this process and it is important to us that they are conducted in an effective and efficient manner.  \n",
      "Performance reviews are conducted annually and are an important part of your career development. During the review, your supervisor will discuss your performance over the past year and provide feedback on areas for improvement. They will also provide you with an opportunity to discuss your goals and objectives for the upcoming year.  \n",
      "Performance reviews are a two-way dialogue between managers and employees. We encourage all employees to be honest and open during the review process, as it is an important opportunity to discuss successes and challenges in the workplace.  \n",
      "We aim to provide positive and constructive feedback during performance reviews. This feedback should be used as an opportunity to help employees develop and grow in their roles.  \n",
      "Employees will receive a written summary of their performance review which will be discussed during the review session. This written summary will include a rating of the employee's performance, feedback, and goals and objectives for the upcoming year.  \n",
      "We understand that performance reviews can be a stressful process. We are committed to making sure that all employees feel supported and empowered during the process. We encourage all employees to reach out to their managers with any questions or concerns they may have.  \n",
      "We look forward to conducting performance reviews with all our employees. They are an important part of our commitment to helping our employees grow and develop in their roles.  \n",
      "Workplace Safety\n",
      "===  \n",
      "Welcome to Contoso Electronics! Our goal is to provide a safe and healthy work environment for our employees and to maintain a safe workplace that is free from recognized hazards. We believe that workplace safety is everyone's responsibility and we are committed to providing a safe working environment for all of our employees.  \n",
      "Contoso Electronics' Workplace Safety Program  \n",
      "At Contoso Electronics, we have established a comprehensive workplace safety program that is designed to protect our employees from workplace hazards. Our program includes:  \n",
      "· Hazard Identification and Risk Assessment - We strive to identify and assess potential safety hazards in the workplace and take the necessary steps to reduce or eliminate them.  \n",
      "· Training - We provide our employees with safety training to ensure that they are aware of safety procedures and protocols.\n"
     ]
    }
   ],
   "source": [
    "from azure.search.documents import SearchClient\n",
    "from azure.search.documents.models import VectorizableTextQuery\n",
    "from azure.identity import DefaultAzureCredential\n",
    "# Pure Vector Search\n",
    "query = \"What's a performance review?\"  \n",
    "  \n",
    "search_client = SearchClient(search_url, \"document-intelligence-index\", credential=DefaultAzureCredential())\n",
    "vector_query = VectorizableTextQuery(text=query, k_nearest_neighbors=50, fields=\"vector\", exhaustive=True)\n",
    "# Use the below query to pass in the raw vector query instead of the query vectorization\n",
    "# vector_query = RawVectorQuery(vector=generate_embeddings(query), k_nearest_neighbors=3, fields=\"vector\")\n",
    "  \n",
    "results = search_client.search(  \n",
    "    search_text=None,  \n",
    "    vector_queries= [vector_query],\n",
    "    select=[\"parent_id\", \"chunk_id\", \"chunk_headers\", \"chunk\"],\n",
    "    top=1\n",
    ")  \n",
    "  \n",
    "for result in results:  \n",
    "    print(f\"parent_id: {result['parent_id']}\")  \n",
    "    print(f\"Score: {result['@search.score']}\") \n",
    "    print(f\"Chunk Headers: {result['chunk_headers']}\")\n",
    "    print(f\"Content: {result['chunk']}\")  \n"
   ]
  },
  {
   "cell_type": "markdown",
   "metadata": {},
   "source": [
    "## Perform a hybrid search\n",
    "\n",
    "Search using text and vectors combined for more relevant results"
   ]
  },
  {
   "cell_type": "code",
   "execution_count": 9,
   "metadata": {},
   "outputs": [
    {
     "name": "stdout",
     "output_type": "stream",
     "text": [
      "parent_id: aHR0cHM6Ly9zdGFrbHlsbmE0cHhqcW8uYmxvYi5jb3JlLndpbmRvd3MubmV0L2RvY3VtZW50LWludGVsbGlnZW5jZS1zYW1wbGUtZGF0YS9CZW5lZml0X09wdGlvbnMucGRm0\n",
      "chunk_id: 311c8dca3478_aHR0cHM6Ly9zdGFrbHlsbmE0cHhqcW8uYmxvYi5jb3JlLndpbmRvd3MubmV0L2RvY3VtZW50LWludGVsbGlnZW5jZS1zYW1wbGUtZGF0YS9CZW5lZml0X09wdGlvbnMucGRm0_chunks_3\n",
      "Score: 0.03181818127632141\n",
      "Chunk Headers: ['Comparison of Plans']\n",
      "Content: # Comparison of Plans  \n",
      "Both plans offer coverage for routine physicals, well-child visits, immunizations, and other preventive care services. The plans also cover preventive care services such as mammograms, colonoscopies, and other cancer screenings.  \n",
      "Northwind Health Plus offers more comprehensive coverage than Northwind Standard. This plan offers coverage for emergency services, both in-network and out-of-network, as well as mental health and substance abuse coverage. Northwind Standard does not offer coverage for emergency services, mental health and substance abuse coverage, or out-of-network services.  \n",
      "Both plans offer coverage for prescription drugs. Northwind Health Plus offers a wider range of prescription drug coverage than Northwind Standard. Northwind Health Plus covers generic, brand- name, and specialty drugs, while Northwind Standard only covers generic and brand-name drugs.  \n",
      "Both plans offer coverage for vision and dental services. Northwind Health Plus offers coverage for vision exams, glasses, and contact lenses, as well as dental exams, cleanings, and fillings. Northwind Standard only offers coverage for vision exams and glasses.  \n",
      "Both plans offer coverage for medical services. Northwind Health Plus offers coverage for hospital stays, doctor visits, lab tests, and X-rays. Northwind Standard only offers coverage for doctor visits and lab tests.  \n",
      "Northwind Health Plus is a comprehensive plan that offers more coverage than Northwind Standard. Northwind Health Plus offers coverage for emergency services, mental health and substance abuse coverage, and out-of-network services, while Northwind Standard does not. Northwind Health Plus also  \n",
      "offers a wider range of prescription drug coverage than Northwind Standard. Both plans offer coverage for vision and dental services, as well as medical services.\n"
     ]
    }
   ],
   "source": [
    "# Hybrid Search\n",
    "query = \"What's the difference between the health plans?\"  \n",
    "  \n",
    "vector_query = VectorizableTextQuery(text=query, k_nearest_neighbors=50, fields=\"vector\", exhaustive=True)\n",
    "  \n",
    "results = search_client.search(  \n",
    "    search_text=query,  \n",
    "    vector_queries= [vector_query],\n",
    "    select=[\"parent_id\", \"chunk_id\", \"chunk_headers\", \"chunk\"],\n",
    "    top=1\n",
    ")  \n",
    "  \n",
    "for result in results:  \n",
    "    print(f\"parent_id: {result['parent_id']}\")  \n",
    "    print(f\"chunk_id: {result['chunk_id']}\")  \n",
    "    print(f\"Score: {result['@search.score']}\")  \n",
    "    print(f\"Chunk Headers: {result['chunk_headers']}\")\n",
    "    print(f\"Content: {result['chunk']}\")  \n"
   ]
  },
  {
   "cell_type": "markdown",
   "metadata": {},
   "source": [
    "## Use chunk headers to improve search results\n",
    "\n",
    "Semantic chunking retrieves section headers if they are available. Use them to improve your search results\n",
    "\n",
    "Note that semantic chunking from document intelligence automatically converts tables to Markdown form"
   ]
  },
  {
   "cell_type": "code",
   "execution_count": 10,
   "metadata": {},
   "outputs": [
    {
     "name": "stdout",
     "output_type": "stream",
     "text": [
      "parent_id: aHR0cHM6Ly9zdGFrbHlsbmE0cHhqcW8uYmxvYi5jb3JlLndpbmRvd3MubmV0L2RvY3VtZW50LWludGVsbGlnZW5jZS1zYW1wbGUtZGF0YS9CZW5lZml0X09wdGlvbnMucGRm0\n",
      "chunk_id: 311c8dca3478_aHR0cHM6Ly9zdGFrbHlsbmE0cHhqcW8uYmxvYi5jb3JlLndpbmRvd3MubmV0L2RvY3VtZW50LWludGVsbGlnZW5jZS1zYW1wbGUtZGF0YS9CZW5lZml0X09wdGlvbnMucGRm0_chunks_4\n",
      "Score: 0.03306011110544205\n",
      "Chunk Headers: ['Cost Comparison']\n",
      "Content: # Cost Comparison  \n",
      "Contoso Electronics deducts the employee's portion of the healthcare cost from each paycheck. This means that the cost of the health insurance will be spread out over the course of the year, rather than being paid in one lump sum. The employee's portion of the cost will be calculated based on the selected health plan and the number of people covered by the insurance. The table below shows a cost comparison between the different health plans offered by Contoso Electronics:  \n",
      "| | Employee's cost per paycheck ||\n",
      "| | Northwind Standard | Northwind Health Plus |\n",
      "| - | - | - |\n",
      "| Employee Only | $45.00 | $55.00 |\n",
      "| Employee +1 | $65.00 | $71.00 |\n",
      "| Employee +2 or more | $78.00 | $89.00 |\n"
     ]
    }
   ],
   "source": [
    "# Hybrid Search\n",
    "query = \"How does the cost between health plans compare?\"  \n",
    "  \n",
    "vector_query = VectorizableTextQuery(text=query, k_nearest_neighbors=50, fields=\"vector\", exhaustive=True)\n",
    "  \n",
    "results = search_client.search(  \n",
    "    search_text=query,  \n",
    "    vector_queries= [vector_query],\n",
    "    select=[\"parent_id\", \"chunk_id\", \"chunk_headers\", \"chunk\"],\n",
    "    search_fields=[\"chunk\", \"chunk_headers\"],\n",
    "    top=1\n",
    ")  \n",
    "  \n",
    "for result in results:  \n",
    "    print(f\"parent_id: {result['parent_id']}\")  \n",
    "    print(f\"chunk_id: {result['chunk_id']}\")  \n",
    "    print(f\"Score: {result['@search.score']}\")  \n",
    "    print(f\"Chunk Headers: {result['chunk_headers']}\")\n",
    "    print(f\"Content: {result['chunk']}\")  \n"
   ]
  },
  {
   "cell_type": "markdown",
   "metadata": {},
   "source": [
    "## Perform a hybrid search + Semantic reranking"
   ]
  },
  {
   "cell_type": "code",
   "execution_count": 11,
   "metadata": {},
   "outputs": [
    {
     "name": "stdout",
     "output_type": "stream",
     "text": [
      "Semantic Answer: Performance reviews are<em> conducted annually</em> and are<em> an important part of your career development</em> During the<em> review, your supervisor will discuss your performance over the past year and provide feedback on areas for improvement</em> They will also provide you with an opportunity to discuss your goals and objectives for the upcoming year Performance review...\n",
      "Semantic Answer Score: 0.90771484375\n",
      "\n",
      "parent_id: aHR0cHM6Ly9zdGFrbHlsbmE0cHhqcW8uYmxvYi5jb3JlLndpbmRvd3MubmV0L2RvY3VtZW50LWludGVsbGlnZW5jZS1zYW1wbGUtZGF0YS9lbXBsb3llZV9oYW5kYm9vay5wZGY1\n",
      "chunk_id: 6a2e57630ec7_aHR0cHM6Ly9zdGFrbHlsbmE0cHhqcW8uYmxvYi5jb3JlLndpbmRvd3MubmV0L2RvY3VtZW50LWludGVsbGlnZW5jZS1zYW1wbGUtZGF0YS9lbXBsb3llZV9oYW5kYm9vay5wZGY1_chunks_4\n",
      "Score: 0.03333333507180214\n",
      "Content: ## Performance Reviews  \n",
      "Performance Reviews at Contoso Electronics  \n",
      "At Contoso Electronics, we strive to ensure our employees are getting the feedback they need to continue growing and developing in their roles. We understand that performance reviews are a key part of this process and it is important to us that they are conducted in an effective and efficient manner.  \n",
      "Performance reviews are conducted annually and are an important part of your career development. During the review, your supervisor will discuss your performance over the past year and provide feedback on areas for improvement. They will also provide you with an opportunity to discuss your goals and objectives for the upcoming year.  \n",
      "Performance reviews are a two-way dialogue between managers and employees. We encourage all employees to be honest and open during the review process, as it is an important opportunity to discuss successes and challenges in the workplace.  \n",
      "We aim to provide positive and constructive feedback during performance reviews. This feedback should be used as an opportunity to help employees develop and grow in their roles.  \n",
      "Employees will receive a written summary of their performance review which will be discussed during the review session. This written summary will include a rating of the employee's performance, feedback, and goals and objectives for the upcoming year.  \n",
      "We understand that performance reviews can be a stressful process. We are committed to making sure that all employees feel supported and empowered during the process. We encourage all employees to reach out to their managers with any questions or concerns they may have.  \n",
      "We look forward to conducting performance reviews with all our employees. They are an important part of our commitment to helping our employees grow and develop in their roles.  \n",
      "Workplace Safety\n",
      "===  \n",
      "Welcome to Contoso Electronics! Our goal is to provide a safe and healthy work environment for our employees and to maintain a safe workplace that is free from recognized hazards. We believe that workplace safety is everyone's responsibility and we are committed to providing a safe working environment for all of our employees.  \n",
      "Contoso Electronics' Workplace Safety Program  \n",
      "At Contoso Electronics, we have established a comprehensive workplace safety program that is designed to protect our employees from workplace hazards. Our program includes:  \n",
      "· Hazard Identification and Risk Assessment - We strive to identify and assess potential safety hazards in the workplace and take the necessary steps to reduce or eliminate them.  \n",
      "· Training - We provide our employees with safety training to ensure that they are aware of safety procedures and protocols.\n",
      "Caption: <em>Performance reviews</em> are conducted annually and are an important part of your career development During the review, your supervisor will discuss your performance over the past year and provide feedback on areas for improvement They will also provide you with an opportunity to discuss your goals and objectives for the upcoming year<em> Performance review...</em>\n",
      "\n",
      "parent_id: aHR0cHM6Ly9zdGFrbHlsbmE0cHhqcW8uYmxvYi5jb3JlLndpbmRvd3MubmV0L2RvY3VtZW50LWludGVsbGlnZW5jZS1zYW1wbGUtZGF0YS9yb2xlX2xpYnJhcnkucGRm0\n",
      "chunk_id: 6a2e57630ec7_aHR0cHM6Ly9zdGFrbHlsbmE0cHhqcW8uYmxvYi5jb3JlLndpbmRvd3MubmV0L2RvY3VtZW50LWludGVsbGlnZW5jZS1zYW1wbGUtZGF0YS9yb2xlX2xpYnJhcnkucGRm0_chunks_45\n",
      "Score: 0.022344322875142097\n",
      "Content: ### Responsibilities:  \n",
      ". Develop and implement human resources strategies and initiatives that align with the overall business goals and objectives  \n",
      "· Lead the recruitment process, including sourcing, screening, interviewing, and onboarding new employees  \n",
      "· Oversee the development and implementation of employee training and development programs  \n",
      "· Monitor and evaluate performance management processes  \n",
      "· Develop and maintain company policies and procedures  \n",
      ". Ensure compliance with all applicable employment laws and regulations  \n",
      "· Provide guidance and support to managers and supervisors on employee relations matters  \n",
      "· Oversee the performance appraisal process and ensure that performance objectives are met  \n",
      "· Assist with salary and compensation reviews  \n",
      ". Manage employee benefits and retirement plans  \n",
      "· Manage employee relations and handle employee disputes  \n",
      "· Organize employee activities and team-building events  \n",
      "Qualifications:  \n",
      "· Bachelor's degree in Human Resources or a related field  \n",
      "· Proven experience as a Human Resources Manager or similar role  \n",
      "· Experience in developing and implementing HR strategies, policies, and procedures  \n",
      ". Excellent knowledge of labor laws and employee benefits  \n",
      "· Strong leadership, interpersonal, and communication skills  \n",
      "· Ability to analyze and interpret data  \n",
      "· Proficiency in MS Office, HRIS systems, and other related software  \n",
      "· Certification in Human Resources (e.g. PHR or SHRM-CP) is preferred\n",
      "Caption: new employees   · Oversee the development and implementation of employee training and development programs   · Monitor and<em> evaluate performance management</em> processes   · Develop and maintain company policies and procedures    Ensure compliance with all applicable employment laws and regulations   · Provide guidance and support to managers and superv...\n",
      "\n"
     ]
    }
   ],
   "source": [
    "from azure.search.documents.models import QueryType, QueryCaptionType, QueryAnswerType\n",
    "\n",
    "# Semantic Hybrid Search\n",
    "query = \"What's a performance review?\"\n",
    "\n",
    "vector_query = VectorizableTextQuery(text=query, k_nearest_neighbors=50, fields=\"vector\", exhaustive=True)\n",
    "\n",
    "results = search_client.search(  \n",
    "    search_text=query,\n",
    "    vector_queries=[vector_query],\n",
    "    select=[\"parent_id\", \"chunk_id\", \"chunk\"],\n",
    "    query_type=QueryType.SEMANTIC,  semantic_configuration_name='my-semantic-config', query_caption=QueryCaptionType.EXTRACTIVE, query_answer=QueryAnswerType.EXTRACTIVE,\n",
    "    top=2\n",
    ")\n",
    "\n",
    "semantic_answers = results.get_answers()\n",
    "for answer in semantic_answers:\n",
    "    if answer.highlights:\n",
    "        print(f\"Semantic Answer: {answer.highlights}\")\n",
    "    else:\n",
    "        print(f\"Semantic Answer: {answer.text}\")\n",
    "    print(f\"Semantic Answer Score: {answer.score}\\n\")\n",
    "\n",
    "for result in results:\n",
    "    print(f\"parent_id: {result['parent_id']}\")  \n",
    "    print(f\"chunk_id: {result['chunk_id']}\")  \n",
    "    print(f\"Score: {result['@search.score']}\")  \n",
    "    print(f\"Content: {result['chunk']}\")  \n",
    "\n",
    "    captions = result[\"@search.captions\"]\n",
    "    if captions:\n",
    "        caption = captions[0]\n",
    "        if caption.highlights:\n",
    "            print(f\"Caption: {caption.highlights}\\n\")\n",
    "        else:\n",
    "            print(f\"Caption: {caption.text}\\n\")\n"
   ]
  }
 ],
 "metadata": {
  "kernelspec": {
   "display_name": ".venv",
   "language": "python",
   "name": "python3"
  },
  "language_info": {
   "codemirror_mode": {
    "name": "ipython",
    "version": 3
   },
   "file_extension": ".py",
   "mimetype": "text/x-python",
   "name": "python",
   "nbconvert_exporter": "python",
   "pygments_lexer": "ipython3",
   "version": "3.10.11"
  }
 },
 "nbformat": 4,
 "nbformat_minor": 2
}
