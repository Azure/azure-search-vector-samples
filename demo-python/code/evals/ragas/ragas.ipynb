{
 "cells": [
  {
   "cell_type": "markdown",
   "metadata": {},
   "source": [
    "# Azure AI Search with LangChain and Ragas\n",
    "\n",
    "This code demonstrates how to use Azure AI Search with OpenAI, Ragas, and Langchain. We will use [Ragas](https://docs.ragas.io/en/latest/index.html) to evaluate a [Langchain AI Search vector store](https://python.langchain.com/v0.1/docs/integrations/vectorstores/azuresearch/) on the following metrics:\n",
    "\n",
    "1. [Context Precision](https://docs.ragas.io/en/latest/concepts/metrics/context_precision.html) - whether the chunks relevant to answer the question are present in the context and ranked highly.\n",
    "1. [Context Recall](https://docs.ragas.io/en/latest/concepts/metrics/context_recall.html) - whether the retrieved chunks align with the ground truth answer in our evaluation test set of questions.\n",
    "\n",
    "The notebook covers the following tasks:\n",
    "1. Setup a sample data source using [integrated vectorization](https://learn.microsoft.com/en-us/azure/search/vector-search-integrated-vectorization). The [skillset](https://learn.microsoft.com/en-us/azure/search/cognitive-search-working-with-skillsets) uses two embedding models for our evaluation: [text-embedding-ada-002 and text-embedding-3-large](https://learn.microsoft.com/azure/ai-services/openai/concepts/models#embeddings)\n",
    "1. Sets up multiple [basic LangChain RAG pipelines](https://python.langchain.com/v0.1/docs/modules/chains/) to answer questions. These pipelines are customized to compare the following factors during evaluation:\n",
    "  1. What kind of embedding model are we using? text-embedding-ada-002 or text-embedding-3-large?\n",
    "  1. What search method are we using? [Vector search](https://learn.microsoft.com/azure/search/vector-search-overview), [hybrid search](https://learn.microsoft.com/azure/search/hybrid-search-overview), or [hybrid search with semantic reranking](https://learn.microsoft.com/azure/search/semantic-search-overview)?\n",
    "1. Graphs the comparison using the Context Precision and Context Recall metrics to compare the various embedding models and search methods."
   ]
  },
  {
   "cell_type": "markdown",
   "metadata": {},
   "source": [
    "### Set up a Python virtual environment in Visual Studio Code\n",
    "\n",
    "1. Open the Command Palette (Ctrl+Shift+P).\n",
    "1. Search for **Python: Create Environment**.\n",
    "1. Select **Venv**.\n",
    "1. Select a Python interpreter. Choose 3.10 or later.\n",
    "\n",
    "It can take a minute to set up. If you run into problems, see [Python environments in VS Code](https://code.visualstudio.com/docs/python/environments)."
   ]
  },
  {
   "cell_type": "markdown",
   "metadata": {},
   "source": [
    "### Install packages\n",
    "\n",
    "If you get an OS permission error, add `--user` to the command line."
   ]
  },
  {
   "cell_type": "code",
   "execution_count": 12,
   "metadata": {},
   "outputs": [],
   "source": [
    "! pip install -r ragas-requirements.txt --quiet"
   ]
  },
  {
   "cell_type": "markdown",
   "metadata": {},
   "source": [
    "### Load .env file\n",
    "\n",
    "Copy `/code/.env-sample` to an `.env` file in the sample folder, and update accordingly. The search service and Azure OpenAI resource and model must exist, but the search index is created and loaded during code execution. Provide a unique name for the index. Endpoints and API keys can be found in the Azure portal."
   ]
  },
  {
   "cell_type": "code",
   "execution_count": 1,
   "metadata": {},
   "outputs": [],
   "source": [
    "from dotenv import load_dotenv\n",
    "from azure.identity import DefaultAzureCredential\n",
    "import os\n",
    "from azure.search.documents.indexes import SearchIndexClient, SearchIndexerClient\n",
    "\n",
    "load_dotenv(override=True) # take environment variables from .env.\n",
    "\n",
    "# Variables not used here do not need to be updated in your .env file\n",
    "endpoint = os.environ[\"AZURE_SEARCH_SERVICE_ENDPOINT\"]\n",
    "key_credential = os.environ[\"AZURE_SEARCH_ADMIN_KEY\"] if len(os.environ[\"AZURE_SEARCH_ADMIN_KEY\"]) > 0 else None\n",
    "index_name = os.getenv(\"AZURE_SEARCH_INDEX\", \"ragas-eval\")\n",
    "azure_openai_endpoint = os.environ[\"AZURE_OPENAI_ENDPOINT\"]\n",
    "azure_openai_key = os.environ[\"AZURE_OPENAI_KEY\"] if len(os.environ[\"AZURE_OPENAI_KEY\"]) > 0 else None\n",
    "azure_openai_ada002_embedding_deployment = os.environ[\"AZURE_OPENAI_ADA002_EMBEDDING_DEPLOYMENT\"]\n",
    "azure_openai_3_large_embedding_deployment = os.environ[\"AZURE_OPENAI_3_LARGE_EMBEDDING_DEPLOYMENT\"]\n",
    "azure_openai_api_version = os.environ[\"AZURE_OPENAI_API_VERSION\"]\n",
    "azure_openai_critic_deployment = os.environ[\"AZURE_OPENAI_CRITIC_DEPLOYMENT\"]\n",
    "azure_openai_generator_deployment = os.environ[\"AZURE_OPENAI_CRITIC_DEPLOYMENT\"]\n",
    "blob_connection_string = os.environ[\"BLOB_CONNECTION_STRING\"]\n",
    "# search blob datasource connection string is optional - defaults to blob connection string\n",
    "# This field is only necessary if you are using MI to connect to the data source\n",
    "# https://learn.microsoft.com/azure/search/search-howto-indexing-azure-blob-storage#supported-credentials-and-connection-strings\n",
    "search_blob_connection_string = os.getenv(\"SEARCH_BLOB_DATASOURCE_CONNECTION_STRING\", blob_connection_string)\n",
    "blob_container_name = os.getenv(\"BLOB_CONTAINER_NAME\", \"ragas-eval\")\n",
    "credential = key_credential or DefaultAzureCredential()\n",
    "\n",
    "indexer_client = SearchIndexerClient(endpoint, credential)\n",
    "index_client = SearchIndexClient(endpoint, credential)"
   ]
  },
  {
   "cell_type": "markdown",
   "metadata": {},
   "source": [
    "## Setup sample data\n",
    "\n",
    "For integrated vectorization to work, make sure the sample documents have been uploaded to your blob storage account"
   ]
  },
  {
   "cell_type": "code",
   "execution_count": 2,
   "metadata": {},
   "outputs": [
    {
     "name": "stdout",
     "output_type": "stream",
     "text": [
      "Setup sample data in ragas-eval\n"
     ]
    }
   ],
   "source": [
    "from lib.utils import upload_sample_documents\n",
    "\n",
    "upload_sample_documents(\n",
    "    blob_connection_string=blob_connection_string,\n",
    "    blob_container_name=blob_container_name,\n",
    "    # Set to false if you want to use credentials included in the blob connection string\n",
    "    # Otherwise your identity will be used as credentials\n",
    "    use_user_identity=True\n",
    ")\n",
    "print(f\"Setup sample data in {blob_container_name}\")"
   ]
  },
  {
   "cell_type": "markdown",
   "metadata": {},
   "source": [
    "## Setup integrated vectorization\n",
    "\n",
    "Create a data source, skillset, index, and indexer to start the integrated vectorization process.\n",
    "The skillset vectorizes the data twice, once using text-embedding-ada-002 and again using text-embedding-3-large. The vectors are sent to different fields to enable comparison later on in the notebook."
   ]
  },
  {
   "cell_type": "code",
   "execution_count": 2,
   "metadata": {},
   "outputs": [
    {
     "name": "stdout",
     "output_type": "stream",
     "text": [
      "Data source 'ragas-eval-blob' created\n",
      "Index ragas-eval created\n",
      "Skillset ragas-eval-skillset created\n",
      "ragas-eval-indexer is created and running. If queries return no results, please wait a bit and try again.\n"
     ]
    }
   ],
   "source": [
    "from lib.utils import create_sample_index, create_sample_datasource, create_sample_skillset, create_sample_indexer\n",
    "\n",
    "# Create a data source \n",
    "datasource_result = create_sample_datasource(\n",
    "    indexer_client,\n",
    "    blob_container_name,\n",
    "    index_name,\n",
    "    search_blob_connection_string\n",
    ")\n",
    "print(f\"Data source '{datasource_result.name}' created\")\n",
    "\n",
    "# Create a index\n",
    "index = create_sample_index(\n",
    "    index_client,\n",
    "    index_name,\n",
    "    azure_openai_endpoint,\n",
    "    azure_openai_ada002_embedding_deployment,\n",
    "    azure_openai_3_large_embedding_deployment,\n",
    "    azure_openai_key)\n",
    "print(f\"Index {index.name} created\")\n",
    "\n",
    "# Create a skillset\n",
    "skillset = create_sample_skillset(\n",
    "    indexer_client,\n",
    "    index_name,\n",
    "    azure_openai_endpoint,\n",
    "    azure_openai_ada002_embedding_deployment,\n",
    "    azure_openai_3_large_embedding_deployment,\n",
    "    azure_openai_key\n",
    ")\n",
    "print(f\"Skillset {skillset.name} created\")\n",
    "\n",
    "# Create an run an indexer\n",
    "indexer = create_sample_indexer(\n",
    "    indexer_client,\n",
    "    index.name,\n",
    "    skillset.name,\n",
    "    datasource_result.name\n",
    ")\n",
    "print(f'{indexer.name} is created and running. If queries return no results, please wait a bit and try again.')  \n"
   ]
  },
  {
   "cell_type": "markdown",
   "metadata": {},
   "source": [
    "## Initialize LangChain LLMs and embeddings\n",
    "\n",
    "In order for evaluation to work, we need the following:\n",
    "\n",
    "1. A LangChain embedding model for text-embedding-ada-002\n",
    "1. A LangChain embedding model for text-embedding-3-large\n",
    "1. A \"critic\" LLM used for judging our metrics. [gpt-4o](https://learn.microsoft.com/azure/ai-services/openai/concepts/models#gpt-4o-and-gpt-4-turbo) can be used as the critic.\n",
    "1. A \"generator\" LLM used for generating text. [gpt-35-turbo](https://learn.microsoft.com/azure/ai-services/openai/concepts/models#gpt-35) can be used as the generator."
   ]
  },
  {
   "cell_type": "code",
   "execution_count": 3,
   "metadata": {},
   "outputs": [],
   "source": [
    "from lib.utils import create_langchain_azure_openai_wrappers\n",
    "\n",
    "text_3_large_embeddings, ada_002_embeddings, generator_llm, critic_llm = create_langchain_azure_openai_wrappers(\n",
    "    azure_openai_api_version,\n",
    "    azure_openai_endpoint,\n",
    "    azure_openai_3_large_embedding_deployment,\n",
    "    azure_openai_ada002_embedding_deployment,\n",
    "    azure_openai_generator_deployment,\n",
    "    azure_openai_critic_deployment,\n",
    "    azure_openai_key\n",
    ")"
   ]
  },
  {
   "cell_type": "markdown",
   "metadata": {},
   "source": [
    "## Generate the test data set\n",
    "\n",
    "We can use [Ragas](https://docs.ragas.io/en/latest/getstarted/testset_generation.html) to generate a synthetic data set for evaluating our RAG pipeline from a sample of documents in your normal data set. The synthetic data set includes questions and answers generated from those documents.\n",
    "\n",
    "We have provided a [pre-generated test set](../../../data/evalquestions/ragas/testset.json) because generating test data may take a long time. You can use the provided code to generate a new test set based on your own data."
   ]
  },
  {
   "cell_type": "code",
   "execution_count": null,
   "metadata": {},
   "outputs": [],
   "source": [
    "import pandas as pd\n",
    "from datasets import Dataset\n",
    "from ragas.testset.generator import TestsetGenerator\n",
    "from ragas.testset.evolutions import simple, reasoning, multi_context\n",
    "from langchain_community.document_loaders import PyPDFDirectoryLoader\n",
    "\n",
    "documents_directory = os.path.join(\"..\", \"..\", \"..\", \"..\", \"data\", \"benefitdocs\")\n",
    "test_dataset_path = os.path.join(\"..\", \"..\", \"..\", \"..\", \"data\", \"evalquestions\", \"ragas\", \"testset.json\")\n",
    "if os.path.exists(test_dataset_path):\n",
    "    # Use a pre-generated test dataset by default\n",
    "    test_dataset = pd.read_json(test_dataset_path)\n",
    "    test_dataset = Dataset.from_pandas(test_dataset)\n",
    "else:\n",
    "    # The following code generates a synthetic data set based on a set of PDF documents in the sample directory\n",
    "    loader = PyPDFDirectoryLoader(path=documents_directory, glob=\"*.pdf\")\n",
    "    documents = loader.load()\n",
    "\n",
    "    generator = TestsetGenerator.from_langchain(\n",
    "        generator_llm,\n",
    "        critic_llm,\n",
    "        text_3_large_embeddings\n",
    "    )\n",
    "\n",
    "    # Change resulting question type distribution\n",
    "    # https://docs.ragas.io/en/latest/concepts/testset_generation.html\n",
    "    distributions = {\n",
    "        simple: 0.5,\n",
    "        multi_context: 0.4,\n",
    "        reasoning: 0.1\n",
    "    }\n",
    "\n",
    "    test_dataset = generator.generate_with_langchain_docs(documents, test_size=10, distributions=distributions) \n",
    "    test_dataset = test_dataset.to_dataset()"
   ]
  },
  {
   "cell_type": "code",
   "execution_count": null,
   "metadata": {},
   "outputs": [],
   "source": []
  },
  {
   "cell_type": "markdown",
   "metadata": {},
   "source": [
    "## Create RAG chains and evaluate them\n",
    "\n",
    "The following code demonstrates how to create a simple RAG chain in Langchain using the AI Search vector retriever, and then evaluate them using various RAGAS metrics. By default, Context Recall and Context Precision are used."
   ]
  },
  {
   "cell_type": "code",
   "execution_count": 9,
   "metadata": {},
   "outputs": [],
   "source": [
    "from langchain.llms.base import BaseLLM\n",
    "from langchain.chains import create_retrieval_chain\n",
    "from langchain.chains.combine_documents import create_stuff_documents_chain\n",
    "from langchain_core.prompts import ChatPromptTemplate\n",
    "from langchain_core.vectorstores import VectorStore\n",
    "from datasets import Dataset\n",
    "from langchain.embeddings.base import Embeddings\n",
    "from ragas.metrics import (\n",
    "    ContextPrecision,\n",
    "    ContextRecall\n",
    ")\n",
    "from ragas.metrics.base import Metric\n",
    "from ragas.llms import LangchainLLMWrapper\n",
    "from ragas import evaluate\n",
    "from langchain_core.runnables import Runnable\n",
    "from typing import Optional, List\n",
    "\n",
    "def create_rag_chain(generator_llm: BaseLLM, vectorstore: VectorStore):\n",
    "    system_prompt = (\n",
    "        \"Use the given context to answer the question. \"\n",
    "        \"If you don't know the answer, say you don't know. \"\n",
    "        \"Use three sentence maximum and keep the answer concise. \"\n",
    "        \"Context: {context}\"\n",
    "    )\n",
    "    prompt = ChatPromptTemplate.from_messages(\n",
    "        [\n",
    "            (\"system\", system_prompt),\n",
    "            (\"human\", \"{input}\"),\n",
    "        ]\n",
    "    )\n",
    "    question_answer_chain = create_stuff_documents_chain(generator_llm, prompt)\n",
    "    return create_retrieval_chain(vectorstore.as_retriever(), question_answer_chain)\n",
    "\n",
    "def evaluate_rag_chain(test_dataset: Dataset, critic_llm: BaseLLM, embeddings: Embeddings, rag_chain: Runnable, metrics: Optional[List[Metric]] = None):\n",
    "    predictions = rag_chain.batch([{\"input\": question} for question in test_dataset[\"question\"]])\n",
    "    eval_dataset = Dataset.from_list(\n",
    "    [\n",
    "        {\n",
    "            \"question\": test_dataset[i][\"question\"],\n",
    "            \"contexts\": [context.page_content for context in prediction[\"context\"]],\n",
    "            \"answer\": prediction[\"answer\"],\n",
    "            \"ground_truth\": test_dataset[i][\"ground_truth\"]\n",
    "        } for i, prediction in enumerate(predictions)\n",
    "    ])\n",
    "    metrics = metrics or [\n",
    "        ContextPrecision(LangchainLLMWrapper(critic_llm)),\n",
    "        ContextRecall(LangchainLLMWrapper(critic_llm)),\n",
    "    ]\n",
    "    return evaluate(\n",
    "        dataset=eval_dataset,\n",
    "        metrics=metrics,\n",
    "        llm=critic_llm,\n",
    "        embeddings=embeddings)"
   ]
  },
  {
   "cell_type": "markdown",
   "metadata": {},
   "source": [
    "## Evaluate text-embedding-ada-002 context recall and precision\n",
    "\n",
    "Use the evaluation and chain creation methods we created in the previous cell to run the evaluation"
   ]
  },
  {
   "cell_type": "code",
   "execution_count": 10,
   "metadata": {},
   "outputs": [
    {
     "data": {
      "application/vnd.jupyter.widget-view+json": {
       "model_id": "4c9a2fb3fb424f0aa56100ef853c727e",
       "version_major": 2,
       "version_minor": 0
      },
      "text/plain": [
       "Evaluating:   0%|          | 0/20 [00:00<?, ?it/s]"
      ]
     },
     "metadata": {},
     "output_type": "display_data"
    },
    {
     "data": {
      "text/plain": [
       "{'context_precision': 0.7333, 'context_recall': 0.7488}"
      ]
     },
     "execution_count": 10,
     "metadata": {},
     "output_type": "execute_result"
    }
   ],
   "source": [
    "from lib.utils import create_langchain_vectorstore\n",
    "\n",
    "ada_002_qa = create_rag_chain(\n",
    "    generator_llm=generator_llm,\n",
    "    vectorstore=create_langchain_vectorstore(\n",
    "        azure_search_endpoint=endpoint,\n",
    "        azure_search_key=key_credential,\n",
    "        index_name=index_name,\n",
    "        embedding_function=ada_002_embeddings.embed_query,\n",
    "        vector_field_name=\"vector_ada002\"\n",
    "    )\n",
    ")\n",
    "\n",
    "ada_002_eval = evaluate_rag_chain(\n",
    "    test_dataset,\n",
    "    critic_llm,\n",
    "    ada_002_embeddings,\n",
    "    ada_002_qa)\n",
    "\n",
    "ada_002_eval"
   ]
  },
  {
   "cell_type": "markdown",
   "metadata": {},
   "source": [
    "## Evaluate text-embedding-3-large context recall and precision\n",
    "\n",
    "Use the evaluation and chain creation methods we created in the previous cell to run the evaluation"
   ]
  },
  {
   "cell_type": "code",
   "execution_count": 11,
   "metadata": {},
   "outputs": [
    {
     "data": {
      "application/vnd.jupyter.widget-view+json": {
       "model_id": "a726c27acd494b67b8a5abe638cce003",
       "version_major": 2,
       "version_minor": 0
      },
      "text/plain": [
       "Evaluating:   0%|          | 0/20 [00:00<?, ?it/s]"
      ]
     },
     "metadata": {},
     "output_type": "display_data"
    },
    {
     "data": {
      "text/plain": [
       "{'context_precision': 0.7389, 'context_recall': 0.8714}"
      ]
     },
     "execution_count": 11,
     "metadata": {},
     "output_type": "execute_result"
    }
   ],
   "source": [
    "from lib.utils import create_langchain_vectorstore\n",
    "\n",
    "text_3_large_qa = create_rag_chain(\n",
    "    generator_llm=generator_llm,\n",
    "    vectorstore=create_langchain_vectorstore(\n",
    "        azure_search_endpoint=endpoint,\n",
    "        azure_search_key=key_credential,\n",
    "        index_name=index_name,\n",
    "        embedding_function=text_3_large_embeddings.embed_query,\n",
    "        vector_field_name=\"vector_3_large\"\n",
    "    )\n",
    ")\n",
    "\n",
    "text_3_large_eval = evaluate_rag_chain(\n",
    "    test_dataset,\n",
    "    critic_llm,\n",
    "    text_3_large_embeddings,\n",
    "    text_3_large_qa)\n",
    "\n",
    "text_3_large_eval"
   ]
  },
  {
   "cell_type": "markdown",
   "metadata": {},
   "source": [
    "## Visualize the results\n",
    "\n",
    "Use matplotlib to graph the two metrics together for comparison. We can see that text-embedding-3-large has superior context recall on the test set compared to text-embedding-ada-002"
   ]
  },
  {
   "cell_type": "code",
   "execution_count": 14,
   "metadata": {},
   "outputs": [
    {
     "data": {
      "image/png": "[encoded data removed]",
      "text/plain": [
       "<Figure size 640x480 with 1 Axes>"
      ]
     },
     "metadata": {},
     "output_type": "display_data"
    }
   ],
   "source": [
    "import matplotlib.pyplot as plt\n",
    "import numpy as np\n",
    "labels = list(ada_002_eval.keys())\n",
    "ada_002_values = list(ada_002_eval.values())\n",
    "text_3_large_values = list(text_3_large_eval.values())\n",
    "\n",
    "x = np.arange(len(labels))  # the label locations\n",
    "width = 0.35  # the width of the bars\n",
    "\n",
    "# Plotting\n",
    "fig, ax = plt.subplots()\n",
    "rects1 = ax.bar(x - width/2, ada_002_values, width, label='ada-002')\n",
    "rects2 = ax.bar(x + width/2, text_3_large_values, width, label='text-3-large')\n",
    "\n",
    "# Adding labels, title, and custom x-axis tick labels, etc.\n",
    "ax.set_xlabel('Metrics')\n",
    "ax.set_ylabel('Scores')\n",
    "ax.set_title('Context Precision and Recall Comparison')\n",
    "ax.set_xticks(x)\n",
    "ax.set_xticklabels(labels)\n",
    "ax.set_ylim(0, 1)\n",
    "ax.legend()\n",
    "\n",
    "fig.tight_layout()\n",
    "plt.show()"
   ]
  },
  {
   "cell_type": "markdown",
   "metadata": {},
   "source": [
    "## Evaluate search methods on text-embedding-ada-003\n",
    "\n",
    "Further evaluate text-embedding-ada-003 by comparing various search methods: vector (similarity), hybrid, and hybrid with semantic reranking search."
   ]
  },
  {
   "cell_type": "code",
   "execution_count": 15,
   "metadata": {},
   "outputs": [
    {
     "data": {
      "application/vnd.jupyter.widget-view+json": {
       "model_id": "df008be4e7af42b3a3db718d8619142b",
       "version_major": 2,
       "version_minor": 0
      },
      "text/plain": [
       "Evaluating:   0%|          | 0/20 [00:00<?, ?it/s]"
      ]
     },
     "metadata": {},
     "output_type": "display_data"
    },
    {
     "data": {
      "text/plain": [
       "{'context_precision': 0.7389, 'context_recall': 0.8667}"
      ]
     },
     "execution_count": 15,
     "metadata": {},
     "output_type": "execute_result"
    }
   ],
   "source": [
    "from lib.utils import create_langchain_vectorstore\n",
    "\n",
    "similarity_search_qa = create_rag_chain(\n",
    "    generator_llm=generator_llm,\n",
    "    vectorstore=create_langchain_vectorstore(\n",
    "        azure_search_endpoint=endpoint,\n",
    "        azure_search_key=key_credential,\n",
    "        index_name=index_name,\n",
    "        embedding_function=text_3_large_embeddings.embed_query,\n",
    "        vector_field_name=\"vector_3_large\",\n",
    "        search_type=\"similarity\"\n",
    "    )\n",
    ")\n",
    "\n",
    "similarity_eval = evaluate_rag_chain(\n",
    "    test_dataset,\n",
    "    critic_llm,\n",
    "    text_3_large_embeddings,\n",
    "    similarity_search_qa)\n",
    "\n",
    "similarity_eval"
   ]
  },
  {
   "cell_type": "code",
   "execution_count": 16,
   "metadata": {},
   "outputs": [
    {
     "data": {
      "application/vnd.jupyter.widget-view+json": {
       "model_id": "53bb5f20719d4ff6b8d35e19717e4ffe",
       "version_major": 2,
       "version_minor": 0
      },
      "text/plain": [
       "Evaluating:   0%|          | 0/20 [00:00<?, ?it/s]"
      ]
     },
     "metadata": {},
     "output_type": "display_data"
    },
    {
     "data": {
      "text/plain": [
       "{'context_precision': 0.7389, 'context_recall': 0.8714}"
      ]
     },
     "execution_count": 16,
     "metadata": {},
     "output_type": "execute_result"
    }
   ],
   "source": [
    "from lib.utils import create_langchain_vectorstore\n",
    "\n",
    "hybrid_search_qa = create_rag_chain(\n",
    "    generator_llm=generator_llm,\n",
    "    vectorstore=create_langchain_vectorstore(\n",
    "        azure_search_endpoint=endpoint,\n",
    "        azure_search_key=key_credential,\n",
    "        index_name=index_name,\n",
    "        embedding_function=text_3_large_embeddings.embed_query,\n",
    "        vector_field_name=\"vector_3_large\",\n",
    "        search_type=\"hybrid\"\n",
    "    )\n",
    ")\n",
    "\n",
    "hybrid_eval = evaluate_rag_chain(\n",
    "    test_dataset,\n",
    "    critic_llm,\n",
    "    text_3_large_embeddings,\n",
    "    hybrid_search_qa)\n",
    "\n",
    "hybrid_eval"
   ]
  },
  {
   "cell_type": "code",
   "execution_count": 17,
   "metadata": {},
   "outputs": [
    {
     "data": {
      "application/vnd.jupyter.widget-view+json": {
       "model_id": "accf1276420e49a0b9584aa0361a70c0",
       "version_major": 2,
       "version_minor": 0
      },
      "text/plain": [
       "Evaluating:   0%|          | 0/20 [00:00<?, ?it/s]"
      ]
     },
     "metadata": {},
     "output_type": "display_data"
    },
    {
     "data": {
      "text/plain": [
       "{'context_precision': 0.7389, 'context_recall': 0.8714}"
      ]
     },
     "execution_count": 17,
     "metadata": {},
     "output_type": "execute_result"
    }
   ],
   "source": [
    "from lib.utils import create_langchain_vectorstore\n",
    "\n",
    "hybrid_semantic_search_qa = create_rag_chain(\n",
    "    generator_llm=generator_llm,\n",
    "    vectorstore=create_langchain_vectorstore(\n",
    "        azure_search_endpoint=endpoint,\n",
    "        azure_search_key=key_credential,\n",
    "        index_name=index_name,\n",
    "        embedding_function=text_3_large_embeddings.embed_query,\n",
    "        vector_field_name=\"vector_3_large\",\n",
    "        search_type=\"hybrid_semantic\"\n",
    "    )\n",
    ")\n",
    "\n",
    "hybrid_semantic_eval = evaluate_rag_chain(\n",
    "    test_dataset,\n",
    "    critic_llm,\n",
    "    text_3_large_embeddings,\n",
    "    hybrid_semantic_search_qa)\n",
    "\n",
    "hybrid_semantic_eval"
   ]
  },
  {
   "cell_type": "markdown",
   "metadata": {},
   "source": [
    "## Visualize the results\n",
    "\n",
    "Graph context recall and context precision for the 3 search methods. Hybrid semantic has the best recall, while all the search methods are tied for precision."
   ]
  },
  {
   "cell_type": "code",
   "execution_count": 18,
   "metadata": {},
   "outputs": [
    {
     "data": {
      "image/png": "[encoded data removed]",
      "text/plain": [
       "<Figure size 1000x600 with 1 Axes>"
      ]
     },
     "metadata": {},
     "output_type": "display_data"
    }
   ],
   "source": [
    "# Data preparation\n",
    "labels = list(hybrid_semantic_eval.keys())\n",
    "hybrid_semantic_values = list(hybrid_semantic_eval.values())\n",
    "hybrid_values = list(hybrid_eval.values())\n",
    "similarity_values = list(similarity_eval.values())\n",
    "\n",
    "x = np.arange(len(labels))  # the label locations\n",
    "width = 0.2  # the width of the bars\n",
    "\n",
    "# Plotting\n",
    "fig, ax = plt.subplots(figsize=(10, 6))\n",
    "rects1 = ax.bar(x - width, hybrid_semantic_values, width, label='hybrid_semantic_eval')\n",
    "rects2 = ax.bar(x, hybrid_values, width, label='hybrid_eval')\n",
    "rects3 = ax.bar(x + width, similarity_values, width, label='similarity_eval')\n",
    "\n",
    "# Adding labels, title, and custom x-axis tick labels, etc.\n",
    "ax.set_xlabel('Metrics')\n",
    "ax.set_ylabel('Scores')\n",
    "ax.set_title('Context Precision and Recall Comparison')\n",
    "ax.set_xticks(x)\n",
    "ax.set_xticklabels(labels)\n",
    "ax.set_ylim(0, 1)\n",
    "ax.legend()\n",
    "\n",
    "fig.tight_layout()\n",
    "plt.show()"
   ]
  }
 ],
 "metadata": {
  "kernelspec": {
   "display_name": ".venv",
   "language": "python",
   "name": "python3"
  },
  "language_info": {
   "codemirror_mode": {
    "name": "ipython",
    "version": 3
   },
   "file_extension": ".py",
   "mimetype": "text/x-python",
   "name": "python",
   "nbconvert_exporter": "python",
   "pygments_lexer": "ipython3",
   "version": "3.11.9"
  }
 },
 "nbformat": 4,
 "nbformat_minor": 2
}
