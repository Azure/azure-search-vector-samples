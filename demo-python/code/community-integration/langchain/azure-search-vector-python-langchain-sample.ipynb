{
 "cells": [
  {
   "attachments": {},
   "cell_type": "markdown",
   "metadata": {},
   "source": [
    "# Azure AI Search with LangChain\n",
    "\n",
    "This code demonstrates how to use Azure AI Search with OpenAI and Langchain."
   ]
  },
  {
   "cell_type": "markdown",
   "metadata": {},
   "source": [
    "### Set up a Python virtual environment in Visual Studio Code\n",
    "\n",
    "1. Open the Command Palette (Ctrl+Shift+P).\n",
    "1. Search for **Python: Create Environment**.\n",
    "1. Select **Venv**.\n",
    "1. Select a Python interpreter. Choose 3.10 or later.\n",
    "\n",
    "It can take a minute to set up. If you run into problems, see [Python environments in VS Code](https://code.visualstudio.com/docs/python/environments)."
   ]
  },
  {
   "cell_type": "markdown",
   "metadata": {},
   "source": [
    "### Install packages\n",
    "\n",
    "If you get an OS permission error, add `--user` to the command line."
   ]
  },
  {
   "cell_type": "code",
   "execution_count": 1,
   "metadata": {},
   "outputs": [],
   "source": [
    "! pip install -r azure-search-vector-python-langchain-sample-requirements.txt --quiet"
   ]
  },
  {
   "cell_type": "markdown",
   "metadata": {},
   "source": [
    "### Load .env file\n",
    "\n",
    "Copy `/code/.env-sample` to an `.env` file in the sample folder, and update accordingly. The search service and Azure OpenAI resource and model must exist, but the search index is created and loaded during code execution. Provide a unique name for the index. Endpoints and API keys can be found in the Azure portal."
   ]
  },
  {
   "cell_type": "code",
   "execution_count": 2,
   "metadata": {},
   "outputs": [],
   "source": [
    "from dotenv import load_dotenv\n",
    "from azure.identity import DefaultAzureCredential\n",
    "import os\n",
    "\n",
    "load_dotenv(override=True) # take environment variables from .env.\n",
    "\n",
    "# Variables not used here do not need to be updated in your .env file\n",
    "endpoint = os.environ[\"AZURE_SEARCH_SERVICE_ENDPOINT\"]\n",
    "key_credential = os.environ[\"AZURE_SEARCH_ADMIN_KEY\"] if len(os.environ[\"AZURE_SEARCH_ADMIN_KEY\"]) > 0 else None\n",
    "index_name = os.environ[\"AZURE_SEARCH_INDEX\"]\n",
    "azure_openai_endpoint = os.environ[\"AZURE_OPENAI_ENDPOINT\"]\n",
    "azure_openai_key = os.environ[\"AZURE_OPENAI_KEY\"] if len(os.environ[\"AZURE_OPENAI_KEY\"]) > 0 else None\n",
    "azure_openai_embedding_deployment = os.environ[\"AZURE_OPENAI_EMBEDDING_DEPLOYMENT\"]\n",
    "azure_openai_api_version = os.environ[\"AZURE_OPENAI_API_VERSION\"]\n",
    "\n",
    "credential = key_credential or DefaultAzureCredential()"
   ]
  },
  {
   "cell_type": "markdown",
   "metadata": {},
   "source": [
    "### Create LangChain Azure OpenAI Embeddings"
   ]
  },
  {
   "cell_type": "code",
   "execution_count": 3,
   "metadata": {},
   "outputs": [],
   "source": [
    "from langchain_openai import AzureOpenAIEmbeddings\n",
    "from azure.identity import DefaultAzureCredential, get_bearer_token_provider\n",
    "\n",
    "openai_credential = DefaultAzureCredential()\n",
    "token_provider = get_bearer_token_provider(openai_credential, \"https://cognitiveservices.azure.com/.default\")\n",
    "\n",
    "# Use API key if provided, otherwise use RBAC authentication\n",
    "embeddings = AzureOpenAIEmbeddings(\n",
    "    azure_deployment=azure_openai_embedding_deployment,\n",
    "    openai_api_version=azure_openai_api_version,\n",
    "    azure_endpoint=azure_openai_endpoint,\n",
    "    api_key=azure_openai_key,\n",
    "    azure_ad_token_provider=token_provider if not azure_openai_key else None\n",
    ")   "
   ]
  },
  {
   "cell_type": "markdown",
   "metadata": {},
   "source": [
    "### Create LangChain Vector Store"
   ]
  },
  {
   "cell_type": "code",
   "execution_count": 4,
   "metadata": {},
   "outputs": [],
   "source": [
    "from langchain.vectorstores.azuresearch import AzureSearch\n",
    "\n",
    "vector_store = AzureSearch(\n",
    "    azure_search_endpoint=endpoint,\n",
    "    azure_search_key=key_credential,\n",
    "    index_name=index_name,\n",
    "    embedding_function=embeddings.embed_query,\n",
    "    semantic_configuration_name=\"default\"\n",
    ")"
   ]
  },
  {
   "cell_type": "code",
   "execution_count": 5,
   "metadata": {},
   "outputs": [
    {
     "name": "stdout",
     "output_type": "stream",
     "text": [
      "Indexed Benefit_Options.pdf\n",
      "Indexed Northwind_Health_Plus_Benefits_Details.pdf\n",
      "Indexed Northwind_Standard_Benefits_Details.pdf\n",
      "Indexed 636 chunks\n"
     ]
    }
   ],
   "source": [
    "from langchain_community.document_loaders import PyPDFLoader\n",
    "from langchain.text_splitter import RecursiveCharacterTextSplitter\n",
    "import os\n",
    "\n",
    "directory = os.path.join(\"..\", \"..\", \"..\", \"data\", \"documents\")\n",
    "files = [\"Benefit_Options.pdf\", \"Northwind_Health_Plus_Benefits_Details.pdf\", \"Northwind_Standard_Benefits_Details.pdf\"]\n",
    "total_chunks = 0\n",
    "splitter = RecursiveCharacterTextSplitter(chunk_size=1000, chunk_overlap=0)\n",
    "\n",
    "for file in files:\n",
    "    loader = PyPDFLoader(os.path.join(directory, file))\n",
    "    file_chunks = loader.load_and_split(splitter)\n",
    "    results = vector_store.add_documents(documents=file_chunks)\n",
    "    total_chunks += len(results)\n",
    "    print(f\"Indexed {file}\")\n",
    "print(f\"Indexed {total_chunks} chunks\")"
   ]
  },
  {
   "cell_type": "markdown",
   "metadata": {},
   "source": [
    "## Perform a vector similarity search"
   ]
  },
  {
   "cell_type": "code",
   "execution_count": 9,
   "metadata": {},
   "outputs": [
    {
     "name": "stdout",
     "output_type": "stream",
     "text": [
      "--------------------------------------------------------------------------------\n",
      "Source: ..\\..\\..\\data\\documents\\Benefit_Options.pdf\n",
      "Chunk Content: Both plans offer coverage for pre scription drugs. Northwind Health Plus offers a wider range of \n",
      "prescription drug coverage than Northwind Standard. Northwind Health Plus covers generic, brand -\n",
      "name, and specialty drugs, while Northwind Standard only covers generic and brand -name drugs. \n",
      "Both plans offer coverage for vision and dental services. Northwind Health Plus offers coverage for vision \n",
      "exams, glasses, and contact lenses, as well as dental exams, cleanings, and fillings. Northwind Standard \n",
      "only offers coverage for vision exams and glas ses. \n",
      "Both plans offer coverage for medical services. Northwind Health Plus offers coverage for hospital stays, \n",
      "doctor visits, lab tests, and X -rays. Northwind Standard only offers coverage for doctor visits and lab \n",
      "tests. \n",
      "Northwind Health Plus is a compr ehensive plan that offers more coverage than Northwind Standard. \n",
      "Northwind Health Plus offers coverage for emergency services, mental health and substance abuse\n",
      "--------------------------------------------------------------------------------\n",
      "Source: ..\\..\\..\\data\\documents\\Benefit_Options.pdf\n",
      "Chunk Content: coverage, and out -of-network services, while Northwind Standard does not. Northwind Health Plus  also\n",
      "--------------------------------------------------------------------------------\n",
      "Source: ..\\..\\..\\data\\documents\\Benefit_Options.pdf\n",
      "Chunk Content: Northwind Standard, you can choose from a variety of in -network providers, including primary care \n",
      "physicians, specialists, hospitals, and pharmacies. This plan  does not offer coverage for emergency \n",
      "services, mental health and substance abuse coverage, or out -of-network services.\n",
      "Comparison of Plans \n",
      "Both plans offer coverage for routine physicals, well -child visits, immunizations, and other preventive \n",
      "care servi ces. The plans also cover preventive care services such as mammograms, colonoscopies, and \n",
      "other cancer screenings. \n",
      "Northwind Health Plus offers more comprehensive coverage than Northwind Standard. This plan offers \n",
      "coverage for emergency services, both in -network and out -of-network, as well as mental health and \n",
      "substance abuse coverage. Northwind Standard does not offer coverage for emergency services, mental \n",
      "health and substance abuse coverage, or out -of-network services.\n"
     ]
    }
   ],
   "source": [
    "# Perform a similarity search\n",
    "docs = vector_store.similarity_search(\n",
    "    \"What is included in my Northwind Health Plus plan that is not in standard?\",\n",
    "    k=50,\n",
    "    search_type=\"similarity\",\n",
    ")\n",
    "docs = docs[:3]\n",
    "for doc in docs:\n",
    "    print(\"-\" * 80)  \n",
    "    print(f\"Source: {doc.metadata['source']}\")\n",
    "    print(f\"Chunk Content: {doc.page_content}\")"
   ]
  },
  {
   "cell_type": "markdown",
   "metadata": {},
   "source": [
    "## Perform a hybrid search"
   ]
  },
  {
   "cell_type": "code",
   "execution_count": 10,
   "metadata": {},
   "outputs": [
    {
     "name": "stdout",
     "output_type": "stream",
     "text": [
      "--------------------------------------------------------------------------------\n",
      "Source: ..\\..\\..\\data\\documents\\Northwind_Health_Plus_Benefits_Details.pdf\n",
      "Chunk Content: includes the plan documents that you receive from Northwind Health, the Northwind Health \n",
      "Plus plan summary, and any additional contracts or documents t hat you may have received \n",
      "from Northwind Health.  \n",
      "It is important to remember that any changes made to this plan must be in writing and \n",
      "signed by both you and Northwind Health. Additionally, if something in the plan is not \n",
      "included in the plan documents or  summary, then it does not apply to the plan.  \n",
      "You should also be aware that the Northwind Health Plus plan may contain certain \n",
      "exceptions, exclusions, and limitations. It is important to familiarize yourself with the plan \n",
      "documents to make sure that you u nderstand what services are covered and which are not \n",
      "covered. If you have any questions, Northwind Health has customer service representatives \n",
      "who are available to answer your questions.  \n",
      "Additionally, Northwind Health may make changes to the plan at any time. You should make\n",
      "--------------------------------------------------------------------------------\n",
      "Source: ..\\..\\..\\data\\documents\\Northwind_Standard_Benefits_Details.pdf\n",
      "Chunk Content: of the cost of services received by those who are not considered eligible members of the \n",
      "group.  \n",
      "Exceptions  \n",
      "There are a few exceptions to the group coverage provided by the Northwind Standard plan. \n",
      "For example, the plan does n ot cover services provided by any health care provider who is \n",
      "not contracted with Northwind Health. In addition, the plan does not cover services that are \n",
      "not medically necessary, such as cosmetic surgery.  \n",
      "Tips for Employees  \n",
      "When you enroll in Northwind St andard, it is important to familiarize yourself with the plan \n",
      "and its coverage options. You should also make sure that you understand any restrictions \n",
      "that may apply to the services you receive. Be sure to check with your provider to make \n",
      "sure that they ac cept the Northwind Standard plan. Also, it is a good idea to familiarize \n",
      "yourself with the cost of the services you receive, so that you know what you may be\n",
      "--------------------------------------------------------------------------------\n",
      "Source: ..\\..\\..\\data\\documents\\Northwind_Health_Plus_Benefits_Details.pdf\n",
      "Chunk Content: Northwind Health Plus is a comprehensive health plan that offers coverage for medical, \n",
      "vision, and dental services. It also provides  coverage for prescription drugs, mental health \n",
      "and substance abuse services, and preventive care. You can choose from a variety of in -\n",
      "network providers, including primary care physicians, specialists, hospitals, and \n",
      "pharmacies. Emergency services are also  covered, both in -network and out -of-network.  \n",
      "Co-pays, deductibles, and out -of-pocket maximums may apply to your plan. Your plan may \n",
      "also include separate deductibles for different services, such as prescription drugs and \n",
      "hospitalization. It is important to know what your plan covers and what the cost -sharing \n",
      "requirements are. To get more information, please visit the Northwind Health website or \n",
      "contact them directly.  \n",
      "It is also important to remember that there may be certain exceptions or limitations in the\n"
     ]
    }
   ],
   "source": [
    "# Perform a hybrid search\n",
    "docs = vector_store.similarity_search(\n",
    "    query=\"What is included in my Northwind Health Plus plan that is not in standard?\",\n",
    "    k=50, \n",
    "    search_type=\"hybrid\"\n",
    ")\n",
    "docs = docs[:3]\n",
    "for doc in docs:\n",
    "    print(\"-\" * 80)  \n",
    "    print(f\"Source: {doc.metadata['source']}\")\n",
    "    print(f\"Chunk Content: {doc.page_content}\")"
   ]
  },
  {
   "cell_type": "markdown",
   "metadata": {},
   "source": [
    "## Perform a hybrid search with semantic reranking (powered by Bing)"
   ]
  },
  {
   "cell_type": "code",
   "execution_count": 14,
   "metadata": {},
   "outputs": [
    {
     "name": "stdout",
     "output_type": "stream",
     "text": [
      "--------------------------------------------------------------------------------\n",
      "Content: Northwind Standard, you can choose from a variety of in -network providers, including primary care \n",
      "physicians, specialists, hospitals, and pharmacies. This plan  does not offer coverage for emergency \n",
      "services, mental health and substance abuse coverage, or out -of-network services.\n",
      "Comparison of Plans \n",
      "Both plans offer coverage for routine physicals, well -child visits, immunizations, and other preventive \n",
      "care servi ces. The plans also cover preventive care services such as mammograms, colonoscopies, and \n",
      "other cancer screenings. \n",
      "Northwind Health Plus offers more comprehensive coverage than Northwind Standard. This plan offers \n",
      "coverage for emergency services, both in -network and out -of-network, as well as mental health and \n",
      "substance abuse coverage. Northwind Standard does not offer coverage for emergency services, mental \n",
      "health and substance abuse coverage, or out -of-network services.\n",
      "Score: 0.024676039814949036\n",
      "Caption: Northwind Standard does not offer<em> coverage for emergency services, mental  health and substance abuse coverage,</em> or out -of-network services..\u0000\n",
      "--------------------------------------------------------------------------------\n",
      "Content: is important to understand these exclusions so that you can plan your care accordingly.  \n",
      "Services Not Covered:  \n",
      "Northwind Health Plus does not cover services that are not medically necessary, such as \n",
      "cosmetic surgery or elective procedures. Additionally, services or treatments that are \n",
      "experimental or investigational are not covered under this plan.  \n",
      "Prescriptions N ot Covered: The plan does not cover prescriptions that are not medically \n",
      "necessary, certain over -the-counter medications, or prescription medications that are used \n",
      "to enhance performance in athletics.  \n",
      "Mental Health and Substance Abuse Treatment: The plan does not cover mental health or \n",
      "substance abuse treatment services provided by a non -network provider or any services \n",
      "that are not medically necessary.  \n",
      "Preventive Care: Northwind Health Plus does not cover preventive care services provided \n",
      "by a non -network  provider.  \n",
      "Tips for Avoiding Exclusions\n",
      "Score: 0.018084002658724785\n",
      "Caption: is important to understand these exclusions so that you can plan your care accordingly.<em> Services Not</em> Covered:<em>   Northwind Health Plus does not</em> cover services that are not medically necessary, such as  cosmetic surgery or elective procedures.\n",
      "--------------------------------------------------------------------------------\n",
      "Content: coverage, and out -of-network services, while Northwind Standard does not. Northwind Health Plus  also\n",
      "Score: 0.019226303324103355\n",
      "Caption: <em>coverage, and out -of-network services, while Northwind Standard does not. Northwind Health Plus  also.</em>\n"
     ]
    }
   ],
   "source": [
    "# Perform a hybrid search with semantic reranking  \n",
    "docs_and_scores = vector_store.semantic_hybrid_search_with_score(  \n",
    "    query=\"What is included in my Northwind Health Plus plan that is not in standard?\",  \n",
    "    k=50,  \n",
    ")\n",
    "docs_and_scores = docs_and_scores[:3]\n",
    "# Print the results  \n",
    "for doc, score in docs_and_scores:  \n",
    "    print(\"-\" * 80)  \n",
    "    answers = doc.metadata['answers']  \n",
    "    if answers:  \n",
    "        if answers.get('highlights'):  \n",
    "            print(f\"Semantic Answer: {answers['highlights']}\")  \n",
    "        else:  \n",
    "            print(f\"Semantic Answer: {answers['text']}\")  \n",
    "        print(f\"Semantic Answer Score: {score}\")  \n",
    "    print(\"Content:\", doc.page_content)  \n",
    "    captions = doc.metadata['captions']\n",
    "    print(f\"Score: {score}\") \n",
    "    if captions:  \n",
    "        if captions.get('highlights'):  \n",
    "            print(f\"Caption: {captions['highlights']}\")  \n",
    "        else:  \n",
    "            print(f\"Caption: {captions['text']}\")  \n",
    "    else:  \n",
    "        print(\"Caption not available\")  \n"
   ]
  }
 ],
 "metadata": {
  "kernelspec": {
   "display_name": "Python 3",
   "language": "python",
   "name": "python3"
  },
  "language_info": {
   "codemirror_mode": {
    "name": "ipython",
    "version": 3
   },
   "file_extension": ".py",
   "mimetype": "text/x-python",
   "name": "python",
   "nbconvert_exporter": "python",
   "pygments_lexer": "ipython3",
   "version": "3.11.7"
  },
  "orig_nbformat": 4
 },
 "nbformat": 4,
 "nbformat_minor": 2
}
