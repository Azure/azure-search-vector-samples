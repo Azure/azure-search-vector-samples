{
 "cells": [
  {
   "cell_type": "markdown",
   "metadata": {},
   "source": [
    "# 1 Create Index\n",
    "# 2 Upload hotels\n",
    "# 3 Sample Semantic Ranker Query\n",
    "# 4 Semantic Config Explained\n",
    "# 5 Semantic Captions\n",
    "# 6 Semantic Answers\n",
    "# 7 Reranking individual query / docs\n",
    "# 8 Debugging Semantic Ranker"
   ]
  }
 ],
 "metadata": {
  "language_info": {
   "name": "python"
  }
 },
 "nbformat": 4,
 "nbformat_minor": 2
}
